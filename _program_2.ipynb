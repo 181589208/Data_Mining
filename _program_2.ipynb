{
 "cells": [
  {
   "cell_type": "code",
   "execution_count": 1,
   "id": "7a4a6c74-3180-49f7-9f6b-1b690425113a",
   "metadata": {},
   "outputs": [
    {
     "name": "stdout",
     "output_type": "stream",
     "text": [
      "Training Set:\n",
      "    Age    Salary  Country_UK  Country_USA\n",
      "4  1.5  1.601112       False        False\n",
      "2  0.5  0.000000       False         True\n",
      "0 -1.5 -1.310001       False         True\n",
      "3  0.0  0.436667        True        False\n",
      "\n",
      "Testing Set:\n",
      "    Age    Salary  Country_UK  Country_USA\n",
      "1 -0.5 -0.727778       False        False\n"
     ]
    },
    {
     "name": "stderr",
     "output_type": "stream",
     "text": [
      "/tmp/ipykernel_3212/1785491787.py:13: FutureWarning: A value is trying to be set on a copy of a DataFrame or Series through chained assignment using an inplace method.\n",
      "The behavior will change in pandas 3.0. This inplace method will never work because the intermediate object on which we are setting values always behaves as a copy.\n",
      "\n",
      "For example, when doing 'df[col].method(value, inplace=True)', try using 'df.method({col: value}, inplace=True)' or df[col] = df[col].method(value) instead, to perform the operation inplace on the original object.\n",
      "\n",
      "\n",
      "  df['Age'].fillna(df['Age'].mean(), inplace=True)\n",
      "/tmp/ipykernel_3212/1785491787.py:14: FutureWarning: A value is trying to be set on a copy of a DataFrame or Series through chained assignment using an inplace method.\n",
      "The behavior will change in pandas 3.0. This inplace method will never work because the intermediate object on which we are setting values always behaves as a copy.\n",
      "\n",
      "For example, when doing 'df[col].method(value, inplace=True)', try using 'df.method({col: value}, inplace=True)' or df[col] = df[col].method(value) instead, to perform the operation inplace on the original object.\n",
      "\n",
      "\n",
      "  df['Salary'].fillna(df['Salary'].mean(), inplace=True)\n"
     ]
    }
   ],
   "source": [
    "import pandas as pd\n",
    "from sklearn.model_selection import train_test_split\n",
    "from sklearn.preprocessing import LabelEncoder, StandardScaler\n",
    "data = {\n",
    "    'Age': [25, 30, 35, None, 40],\n",
    "    'Salary': [50000, 60000, None, 80000, 100000],\n",
    "    'Country': ['USA', 'Canada', 'USA', 'UK', 'Canada'],\n",
    "    'Purchased': ['NO', 'YES', 'NO', 'YES', 'NO']\n",
    "}\n",
    "df = pd.DataFrame(data)\n",
    "df['Purchased'] = LabelEncoder().fit_transform(df['Purchased'])\n",
    "df = pd.get_dummies(df, columns=['Country'], drop_first=True)\n",
    "df['Age'].fillna(df['Age'].mean(), inplace=True)\n",
    "df['Salary'].fillna(df['Salary'].mean(), inplace=True)\n",
    "scaler = StandardScaler()\n",
    "df[['Age', 'Salary']] = scaler.fit_transform(df[['Age', 'Salary']])\n",
    "X = df.drop('Purchased', axis=1)\n",
    "y = df['Purchased']\n",
    "X_train, X_test, y_train, y_test = train_test_split(X, y, test_size=0.2, random_state=42)\n",
    "print(\"Training Set:\\n\", X_train)\n",
    "print(\"\\nTesting Set:\\n\", X_test)                                                      "
   ]
  },
  {
   "cell_type": "code",
   "execution_count": null,
   "id": "fca0a941-5a0a-4757-9fc2-a31ab57d60af",
   "metadata": {},
   "outputs": [],
   "source": []
  }
 ],
 "metadata": {
  "kernelspec": {
   "display_name": "Python 3 (ipykernel)",
   "language": "python",
   "name": "python3"
  },
  "language_info": {
   "codemirror_mode": {
    "name": "ipython",
    "version": 3
   },
   "file_extension": ".py",
   "mimetype": "text/x-python",
   "name": "python",
   "nbconvert_exporter": "python",
   "pygments_lexer": "ipython3",
   "version": "3.9.2"
  }
 },
 "nbformat": 4,
 "nbformat_minor": 5
}
