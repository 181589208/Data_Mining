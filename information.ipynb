{
 "cells": [
  {
   "cell_type": "code",
   "execution_count": 1,
   "id": "3f256ebe-ba9b-4cb7-bb4e-413420e12e71",
   "metadata": {},
   "outputs": [
    {
     "ename": "SyntaxError",
     "evalue": "invalid syntax (3464534414.py, line 13)",
     "output_type": "error",
     "traceback": [
      "\u001b[0;36m  Cell \u001b[0;32mIn[1], line 13\u001b[0;36m\u001b[0m\n\u001b[0;31m    df[n] = df[n].apply(lambda x:x.fillna(x.mean()),axis=0)\u001b[0m\n\u001b[0m    ^\u001b[0m\n\u001b[0;31mSyntaxError\u001b[0m\u001b[0;31m:\u001b[0m invalid syntax\n"
     ]
    }
   ],
   "source": [
    "import numpy as np\n",
    "import pandas as pd\n",
    "f = 'information.CSV'\n",
    "df=pd.read_CSV(f)\n",
    "print('loaded dataset')\n",
    "print(df)\n",
    "dv = pd.columns[-1]\n",
    "iv = pd.columns[:-1]\n",
    "print(\"dependent variable:\",dv)\n",
    "print(\"indpendent variable:\",iv)\n",
    "print(df is null().sum())\n",
    "n=df.select_dtypes(include=['float64','int64'].columns\n",
    "df[n] = df[n].apply(lambda x:x.fillna(x.mean()),axis=0)\n",
    "s=df.select_dtypes(include=['object']).columns\n",
    "df[s] = df[n].apply(lamba x:x.fillna(x.mode()[0],axis=0)\n",
    "print(\"recheck missing data summary\")\n",
    "print(df.is null().sum())\n",
    "print(df)          "
   ]
  }
 ],
 "metadata": {
  "kernelspec": {
   "display_name": "Python 3 (ipykernel)",
   "language": "python",
   "name": "python3"
  },
  "language_info": {
   "codemirror_mode": {
    "name": "ipython",
    "version": 3
   },
   "file_extension": ".py",
   "mimetype": "text/x-python",
   "name": "python",
   "nbconvert_exporter": "python",
   "pygments_lexer": "ipython3",
   "version": "3.9.2"
  }
 },
 "nbformat": 4,
 "nbformat_minor": 5
}
