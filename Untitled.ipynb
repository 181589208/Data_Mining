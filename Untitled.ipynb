{
 "cells": [
  {
   "cell_type": "code",
   "execution_count": 11,
   "id": "e901bcd1-cb42-4619-9ed1-5136b2943b09",
   "metadata": {
    "scrolled": true
   },
   "outputs": [
    {
     "name": "stdout",
     "output_type": "stream",
     "text": [
      "Frequent Itemsets:\n",
      "     support             itemsets\n",
      "0  0.666667               (Milk)\n",
      "1  0.666667              (Bread)\n",
      "2  0.833333             (Butter)\n",
      "3  0.500000             (Cheese)\n",
      "4  0.666667                (Egg)\n",
      "5  0.500000       (Milk, Butter)\n",
      "6  0.500000          (Milk, Egg)\n",
      "7  0.500000      (Bread, Butter)\n",
      "8  0.666667        (Egg, Butter)\n",
      "9  0.500000  (Milk, Egg, Butter)\n",
      "\n",
      "Association Rules:\n",
      "       antecedents     consequents   support  confidence   lift\n",
      "0          (Milk)           (Egg)  0.500000        0.75  1.125\n",
      "1           (Egg)          (Milk)  0.500000        0.75  1.125\n",
      "2           (Egg)        (Butter)  0.666667        1.00  1.200\n",
      "3        (Butter)           (Egg)  0.666667        0.80  1.200\n",
      "4     (Milk, Egg)        (Butter)  0.500000        1.00  1.200\n",
      "5  (Milk, Butter)           (Egg)  0.500000        1.00  1.500\n",
      "6   (Egg, Butter)          (Milk)  0.500000        0.75  1.125\n",
      "7          (Milk)   (Egg, Butter)  0.500000        0.75  1.125\n",
      "8           (Egg)  (Milk, Butter)  0.500000        0.75  1.500\n",
      "9        (Butter)     (Milk, Egg)  0.500000        0.60  1.200\n"
     ]
    },
    {
     "name": "stderr",
     "output_type": "stream",
     "text": [
      "/home/aditya/.local/lib/python3.9/site-packages/mlxtend/frequent_patterns/fpcommon.py:161: DeprecationWarning: DataFrames with non-bool types result in worse computationalperformance and their support might be discontinued in the future.Please use a DataFrame with bool type\n",
      "  warnings.warn(\n"
     ]
    }
   ],
   "source": [
    "import pandas as pd\n",
    "from mlxtend.frequent_patterns import apriori, association_rules\n",
    "\n",
    "data = {'Milk': [1, 0, 1, 1, 0, 1],\n",
    "        'Bread': [1, 1, 0, 1, 1, 0],\n",
    "        'Butter': [0, 1, 1, 1, 1, 1],\n",
    "        'Cheese': [1, 0, 1, 0, 1, 0],\n",
    "        'Egg': [0, 1, 1, 1, 0, 1]}\n",
    "\n",
    "df = pd.DataFrame(data)\n",
    "frequent_itemsets = apriori(df, min_support=0.4, use_colnames=True)\n",
    "rules = association_rules(frequent_itemsets, metric=\"lift\", min_threshold=1.0)\n",
    "print(\"Frequent Itemsets:\\n\", frequent_itemsets)\n",
    "print(\"\\nAssociation Rules:\\n\", rules[['antecedents', 'consequents', 'support', 'confidence', 'lift']])\n"
   ]
  },
  {
   "cell_type": "code",
   "execution_count": null,
   "id": "2bd94a03-c5c1-4530-a02b-2b41201b5409",
   "metadata": {},
   "outputs": [],
   "source": []
  }
 ],
 "metadata": {
  "kernelspec": {
   "display_name": "Python 3 (ipykernel)",
   "language": "python",
   "name": "python3"
  },
  "language_info": {
   "codemirror_mode": {
    "name": "ipython",
    "version": 3
   },
   "file_extension": ".py",
   "mimetype": "text/x-python",
   "name": "python",
   "nbconvert_exporter": "python",
   "pygments_lexer": "ipython3",
   "version": "3.9.2"
  }
 },
 "nbformat": 4,
 "nbformat_minor": 5
}
