{
 "cells": [
  {
   "cell_type": "code",
   "execution_count": 2,
   "id": "a1c8d406-d10e-4190-b1f3-07f9e79ce8e2",
   "metadata": {},
   "outputs": [
    {
     "name": "stdout",
     "output_type": "stream",
     "text": [
      "Linear Regression Model Evaluation:\n",
      "Mean squared error(mse):0.038048\n",
      "r2 score:1.00\n"
     ]
    }
   ],
   "source": [
    "import pandas as pd\n",
    "from sklearn.datasets import make_regression\n",
    "from sklearn.model_selection import train_test_split\n",
    "from sklearn.linear_model import LinearRegression\n",
    "from sklearn.metrics import mean_squared_error, r2_score\n",
    "a,b=make_regression(n_samples=1000,n_features=10,noise=0.2,random_state=42)\n",
    "df=pd.DataFrame(a,columns=[f\"feature_{i}\"for i in range(a.shape[1])])\n",
    "df['target']=b\n",
    "a=df.drop('target',axis=1)\n",
    "b=df['target']\n",
    "a_train,a_test,b_train,b_test=train_test_split(a,b,test_size=0.2,random_state=42)\n",
    "model=LinearRegression()\n",
    "model.fit(a_train,b_train)\n",
    "b_pred=model.predict(a_test)\n",
    "mse=mean_squared_error(b_test,b_pred)\n",
    "r2=r2_score(b_test,b_pred)\n",
    "print(\"Linear Regression Model Evaluation:\")\n",
    "print(f\"Mean squared error(mse):{mse:2f}\")\n",
    "print(f\"r2 score:{r2:.2f}\")"
   ]
  },
  {
   "cell_type": "code",
   "execution_count": null,
   "id": "b9874512-102b-4e44-87cd-2f62cb2d3f83",
   "metadata": {},
   "outputs": [],
   "source": []
  }
 ],
 "metadata": {
  "kernelspec": {
   "display_name": "Python 3 (ipykernel)",
   "language": "python",
   "name": "python3"
  },
  "language_info": {
   "codemirror_mode": {
    "name": "ipython",
    "version": 3
   },
   "file_extension": ".py",
   "mimetype": "text/x-python",
   "name": "python",
   "nbconvert_exporter": "python",
   "pygments_lexer": "ipython3",
   "version": "3.9.2"
  }
 },
 "nbformat": 4,
 "nbformat_minor": 5
}
