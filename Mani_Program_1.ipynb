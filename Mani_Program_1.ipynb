{
 "cells": [
  {
   "cell_type": "code",
   "execution_count": 8,
   "id": "8ffa4434-3331-414e-930c-61d4fd5912d2",
   "metadata": {},
   "outputs": [
    {
     "name": "stdout",
     "output_type": "stream",
     "text": [
      "   s.no     Name  Marks\n",
      "0     1      jai   55.0\n",
      "1     2    basha   44.0\n",
      "2     3   naveen    NaN\n",
      "3     4   ganesh   44.0\n",
      "4     5      sai   55.0\n",
      "5     6  praveen    NaN\n",
      "6     7    madhu   44.0\n",
      "7     8     raju   44.0\n",
      "8     9    kiran    NaN\n",
      "9    10      ram   55.0\n",
      "Dependent variable: Marks\n",
      "Independent variable: Marks\n",
      "Missing data summary:\n",
      "s.no     0\n",
      "Name     0\n",
      "Marks    3\n",
      "dtype: int64\n",
      "Recheck missing data summary:\n",
      "s.no     0\n",
      "Name     0\n",
      "Marks    0\n",
      "dtype: int64\n",
      "   s.no     Name      Marks\n",
      "0     1      jai  55.000000\n",
      "1     2    basha  44.000000\n",
      "2     3   naveen  48.714286\n",
      "3     4   ganesh  44.000000\n",
      "4     5      sai  55.000000\n",
      "5     6  praveen  48.714286\n",
      "6     7    madhu  44.000000\n",
      "7     8     raju  44.000000\n",
      "8     9    kiran  48.714286\n",
      "9    10      ram  55.000000\n"
     ]
    }
   ],
   "source": [
    "import numpy as np\n",
    "import pandas as pd\n",
    "\n",
    "f = 'Marks.csv'\n",
    "df = pd.read_csv(f)\n",
    "print(df)\n",
    "\n",
    "dv = df.columns[-1]\n",
    "iv = df.columns[-1]\n",
    "print(\"Dependent variable:\", dv)\n",
    "print(\"Independent variable:\", iv)\n",
    "\n",
    "print(\"Missing data summary:\")\n",
    "print(df.isnull().sum())\n",
    "\n",
    "\n",
    "n = df.select_dtypes(include=['float64', 'int64']).columns\n",
    "df[n] = df[n].apply(lambda x: x.fillna(x.mean()), axis=0)\n",
    "\n",
    "\n",
    "s = df.select_dtypes(include=['object']).columns\n",
    "df[s] = df[s].apply(lambda x: x.fillna(x.mode()[0]), axis=0)\n",
    "\n",
    "print(\"Recheck missing data summary:\")\n",
    "print(df.isnull().sum())\n",
    "\n",
    "print(df)"
   ]
  },
  {
   "cell_type": "code",
   "execution_count": null,
   "id": "572084be-f0ea-42cd-8287-3d58f1ed8d87",
   "metadata": {},
   "outputs": [],
   "source": []
  }
 ],
 "metadata": {
  "kernelspec": {
   "display_name": "Python 3 (ipykernel)",
   "language": "python",
   "name": "python3"
  },
  "language_info": {
   "codemirror_mode": {
    "name": "ipython",
    "version": 3
   },
   "file_extension": ".py",
   "mimetype": "text/x-python",
   "name": "python",
   "nbconvert_exporter": "python",
   "pygments_lexer": "ipython3",
   "version": "3.10.12"
  }
 },
 "nbformat": 4,
 "nbformat_minor": 5
}
