{
 "cells": [
  {
   "cell_type": "code",
   "execution_count": 1,
   "id": "6880c31b-0118-45d3-bee7-855a2f77c5fe",
   "metadata": {
    "scrolled": true
   },
   "outputs": [
    {
     "name": "stdout",
     "output_type": "stream",
     "text": [
      "Pearson's Correlation:(pearson_corr)\n",
      "Cosine Similarity:0.9746318461970762\n",
      "Jaccard Similarity:0.3333333333333333\n",
      "Euclidean Distance:5.196152422706632\n",
      "Manhattan Distance:9\n"
     ]
    }
   ],
   "source": [
    "import numpy as np\n",
    "from scipy.spatial.distance import euclidean, cityblock\n",
    "from scipy.stats import pearsonr\n",
    "from sklearn.metrics.pairwise import cosine_similarity\n",
    "from sklearn.metrics import jaccard_score\n",
    "vector_a=np.array([1,2,3])\n",
    "vector_b=np.array([4,5,6])\n",
    "pearson_corr, _=pearsonr(vector_a,vector_b)\n",
    "print(f\"Pearson's Correlation:(pearson_corr)\")\n",
    "con_sim=cosine_similarity([vector_a],[vector_b])[0][0]\n",
    "print(f\"Cosine Similarity:{con_sim}\")\n",
    "binary_a=np.array([1,1,0,0])\n",
    "binary_b=np.array([1,0,1,0])\n",
    "jaccard_sim=jaccard_score(binary_a,binary_b)\n",
    "print(f\"Jaccard Similarity:{jaccard_sim}\")\n",
    "euclidean_dist=euclidean(vector_a,vector_b)\n",
    "print(f\"Euclidean Distance:{euclidean_dist}\")\n",
    "manhattan_dist=cityblock(vector_a,vector_b)\n",
    "print(f\"Manhattan Distance:{manhattan_dist}\")"
   ]
  }
 ],
 "metadata": {
  "kernelspec": {
   "display_name": "Python 3 (ipykernel)",
   "language": "python",
   "name": "python3"
  },
  "language_info": {
   "codemirror_mode": {
    "name": "ipython",
    "version": 3
   },
   "file_extension": ".py",
   "mimetype": "text/x-python",
   "name": "python",
   "nbconvert_exporter": "python",
   "pygments_lexer": "ipython3",
   "version": "3.9.2"
  }
 },
 "nbformat": 4,
 "nbformat_minor": 5
}
